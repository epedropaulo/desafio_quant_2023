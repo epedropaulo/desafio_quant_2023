{
 "cells": [
  {
   "cell_type": "code",
   "execution_count": 28,
   "metadata": {},
   "outputs": [],
   "source": [
    "import pandas as pd\n",
    "import numpy as np\n",
    "import os\n",
    "from binance.client import Client"
   ]
  },
  {
   "cell_type": "code",
   "execution_count": 29,
   "metadata": {},
   "outputs": [],
   "source": [
    "#### ocultar dados ######\n",
    "api_key = os.environ.get('API_KEY')\n",
    "api_secret = os.environ.get('API_SECRET')\n",
    "\n",
    "client=Client(api_key,api_secret)"
   ]
  },
  {
   "cell_type": "code",
   "execution_count": 56,
   "metadata": {},
   "outputs": [],
   "source": [
    "def GetOHLC(asset:'str',timeframe,start,end):\n",
    "    df= pd.DataFrame(client.get_historical_klines(asset, timeframe,start,end))\n",
    "    df=df.iloc[:,:6]\n",
    "    df.columns=[\"Date\",\"Open\",\"High\",\"Low\",\"Close\",\"Volume\"]\n",
    "    df=df.set_index(\"Date\")\n",
    "    df.index=pd.to_datetime(df.index,unit=\"ms\")\n",
    "    df=df.astype(\"float\")\n",
    "    return df\n",
    "\n",
    "def intersecao_dfs(dic):\n",
    "  chaves = list(dic.keys())\n",
    "  init = dic[chaves[0]].index.intersection(dic[chaves[0]].index)\n",
    "  for k in chaves[1:]:\n",
    "    init = init.intersection(dic[k].index)\n",
    "  return init\n",
    "\n",
    "\n",
    "def get_good_dfs(dic,usar):\n",
    "  for k in dic.keys():\n",
    "    df = dic[k]\n",
    "    df = df[df.index.isin(usar)].copy()\n",
    "    dic[k] = df\n",
    "  return dic\n",
    "  "
   ]
  },
  {
   "cell_type": "code",
   "execution_count": 45,
   "metadata": {},
   "outputs": [],
   "source": [
    "data_set_4h = {}\n",
    "data_set_1h = {}\n",
    "data_set_1d = {}\n",
    "\n",
    "tickers = ['BTCUSDT','ETHUSDT','BNBUSDT','ADAUSDT','XRPUSDT','LTCUSDT']\n",
    "\n",
    "\n",
    "for t in tickers:\n",
    "  df = GetOHLC(t,'4h','2017-01-01','2023.11.01')\n",
    "  data_set_4h[t] = df\n",
    "\n",
    "\n",
    "for t in tickers:\n",
    "  df = GetOHLC(t,'1d','2017-01-01','2023.11.01')\n",
    "  data_set_1d[t] = df\n",
    "\n",
    "\n",
    "for t in tickers:\n",
    "  df = GetOHLC(t,'1h','2017-01-01','2023.11.01')\n",
    "  data_set_1h[t] = df\n",
    "\n"
   ]
  },
  {
   "cell_type": "code",
   "execution_count": 62,
   "metadata": {},
   "outputs": [],
   "source": [
    "usar_4h = intersecao_dfs(data_set_4h)\n",
    "usar_1h = intersecao_dfs(data_set_1h)\n",
    "usar_1d = intersecao_dfs(data_set_1d)"
   ]
  },
  {
   "cell_type": "code",
   "execution_count": 63,
   "metadata": {},
   "outputs": [],
   "source": [
    "data_set_4h_tratado = get_good_dfs(data_set_4h,usar_4h)\n",
    "data_set_1h_tratado = get_good_dfs(data_set_1h,usar_1h)\n",
    "data_set_1d_tratado = get_good_dfs(data_set_1d,usar_1d)"
   ]
  },
  {
   "cell_type": "code",
   "execution_count": 64,
   "metadata": {},
   "outputs": [],
   "source": [
    "for k in data_set_4h_tratado.keys():\n",
    "  df = data_set_4h_tratado[k]\n",
    "  df.to_excel(f'./assets/4h/{k}.xlsx')\n"
   ]
  },
  {
   "cell_type": "code",
   "execution_count": null,
   "metadata": {},
   "outputs": [],
   "source": [
    "for k in data_set_1h_tratado.keys():\n",
    "  df = data_set_1h_tratado[k]\n",
    "  df.to_excel(f'./assets/1h/{k}.xlsx')"
   ]
  },
  {
   "cell_type": "code",
   "execution_count": null,
   "metadata": {},
   "outputs": [],
   "source": [
    "for k in data_set_1d_tratado.keys():\n",
    "  df = data_set_1d_tratado[k]\n",
    "  df.to_excel(f'./assets/1d/{k}.xlsx')"
   ]
  },
  {
   "cell_type": "code",
   "execution_count": null,
   "metadata": {},
   "outputs": [],
   "source": []
  }
 ],
 "metadata": {
  "kernelspec": {
   "display_name": "Python 3",
   "language": "python",
   "name": "python3"
  },
  "language_info": {
   "codemirror_mode": {
    "name": "ipython",
    "version": 3
   },
   "file_extension": ".py",
   "mimetype": "text/x-python",
   "name": "python",
   "nbconvert_exporter": "python",
   "pygments_lexer": "ipython3",
   "version": "3.10.11"
  },
  "orig_nbformat": 4
 },
 "nbformat": 4,
 "nbformat_minor": 2
}
