{
 "cells": [
  {
   "cell_type": "code",
   "execution_count": 1,
   "metadata": {},
   "outputs": [
    {
     "name": "stdout",
     "output_type": "stream",
     "text": [
      "333\n",
      "333\n",
      "333\n",
      "333\n",
      "333\n",
      "333\n",
      "333\n"
     ]
    }
   ],
   "source": [
    "import matplotlib.pyplot as plt\n",
    "import pandas as pd\n",
    "import numpy as np\n",
    "import os\n",
    "from nice_funcs.indicators import CreateRandomPrtf,EWMA,MACD,RSI,NormalizeWindow,MDD\n",
    "from stable_baselines3 import DDPG ,PPO\n",
    "from ambiente import TradingEnv\n",
    "from stable_baselines3.common.noise import NormalActionNoise\n",
    "from stable_baselines3.common.callbacks import EvalCallback\n",
    "\n",
    "\n",
    "periodo_permitido = ('2009-12-30','2022-12-30')\n",
    "\n",
    "    \n",
    "\n",
    "def GetIndex(*args):\n",
    "  indicators = [*args]\n",
    "  index_init = set(indicators[0].index)\n",
    "  for ind_ in indicators:\n",
    "    index_init = index_init & set(ind_.index)\n",
    "  \n",
    "  idx_date = min(index_init)\n",
    "  new_index_indicators = []\n",
    "  for ind_ in indicators:\n",
    "    #ind_['Cash'] = 0 \n",
    "    new_index_indicators.append(ind_[idx_date:])\n",
    "  return new_index_indicators\n",
    "        \n",
    "\n",
    "path_diario = './assets/1d/'\n",
    "file = './assets/United States 10-Year Bond Yield Historical Data.csv'\n",
    "\n",
    "close_price_free = pd.read_csv(file).Price.loc[periodo_permitido[0]:periodo_permitido[1]]\n",
    "risk_free_rate = close_price_free.mean()/100\n",
    "daily_risk_free = (risk_free_rate+1)**(1/252) -1\n",
    "\n",
    "ativos = os.listdir(path_diario)\n",
    "ativosOHLC = {}\n",
    "for ativo in ativos:\n",
    "    ativosOHLC[ativo.replace('.xlsx','')] = \\\n",
    "        pd.read_excel(os.path.join(path_diario,ativo),index_col=0)\n",
    "    \n",
    "\n",
    "close_prices = {}\n",
    "for k in ativosOHLC.keys():\n",
    "  close_prices[k] = ativosOHLC[k].Close.loc[periodo_permitido[0]:periodo_permitido[1]]\n",
    "\n",
    "\n",
    "df_fechamento = pd.DataFrame(close_prices).iloc[-360:]\n",
    "\n",
    "normalized_fech = df_fechamento.apply(lambda row: NormalizeWindow(row)).shift(1).dropna()\n",
    "macd = df_fechamento.apply(lambda row: MACD(row)[0]).shift(1).dropna()\n",
    "rsi = df_fechamento.apply(lambda row: RSI(row)).shift(1).dropna()\n",
    "ewma_diff = df_fechamento.apply(lambda row: EWMA(row,20) - EWMA(row,5)).shift(1).dropna()\n",
    "ddd = df_fechamento.apply(lambda row: MDD(row,window=26)[0]).shift(1).dropna()\n",
    "mdd = df_fechamento.apply(lambda row: MDD(row,window=26)[0]).shift(1).rolling(window=26).min().dropna()\n",
    "\n",
    "df_fechamento,normalized_fech,macd,rsi,ewma_diff,ddd,mdd =  GetIndex(df_fechamento,normalized_fech, macd, rsi, ewma_diff,ddd,mdd)\n",
    "\n",
    "\n",
    "for val in [df_fechamento,*[normalized_fech,macd,rsi,ewma_diff,ddd,mdd]]:\n",
    "  print(len(val))\n",
    "\n",
    "env = TradingEnv(df_fechamento,[normalized_fech,macd,rsi,ewma_diff,ddd,mdd],daily_risk_free,'s',long_only=False)"
   ]
  },
  {
   "cell_type": "code",
   "execution_count": 2,
   "metadata": {},
   "outputs": [],
   "source": [
    "#model = PPO.load('./Training/Saved Models/trading_sharpe_4.zip') \n",
    "model = PPO.load('./Training/Logs/best_model.zip')"
   ]
  },
  {
   "cell_type": "code",
   "execution_count": 3,
   "metadata": {},
   "outputs": [],
   "source": [
    "def NormalizeAction(action):\n",
    "    if all(action) == 0:\n",
    "      action = 1/len(action)\n",
    "    else:\n",
    "      action = action/sum(np.abs(action))\n",
    "    return action"
   ]
  },
  {
   "cell_type": "code",
   "execution_count": 4,
   "metadata": {},
   "outputs": [
    {
     "name": "stdout",
     "output_type": "stream",
     "text": [
      "**************************************************\n",
      "Retorno 1000\n"
     ]
    }
   ],
   "source": [
    "stats = {\n",
    "  'ganho_total':[],\n",
    "  'total_turnos':[],\n",
    "  'prtf':[],\n",
    "  'valor':[]}\n",
    "for _ in range(1):\n",
    "  obs,_ = env.reset()\n",
    "  total_ganho = 0\n",
    "  done = False\n",
    "  truncated = False\n",
    "  termination = (done or truncated)\n",
    "  acoes = []\n",
    "  rewards = []\n",
    "  while not termination:\n",
    "      action,_ = model.predict(obs,deterministic=True)\n",
    "      obs,reward, done ,truncated,info = env.step(action)\n",
    "      total_ganho +=reward\n",
    "      termination = (done or truncated)\n",
    "      action = NormalizeAction(action)\n",
    "      acoes.append(action)\n",
    "      rewards.append(reward)\n",
    "  stats['ganho_total'].append(total_ganho)\n",
    "  stats['total_turnos'].append(env.step_)\n",
    "  stats['prtf'].append(acoes)\n",
    "  stats['valor'].append(rewards)"
   ]
  },
  {
   "cell_type": "code",
   "execution_count": 5,
   "metadata": {},
   "outputs": [],
   "source": [
    "portf = pd.Series(env._step_portfolio)"
   ]
  },
  {
   "cell_type": "code",
   "execution_count": 6,
   "metadata": {},
   "outputs": [],
   "source": [
    "x = pd.Series(env._step_portfolio).pct_change().describe()"
   ]
  },
  {
   "cell_type": "code",
   "execution_count": 7,
   "metadata": {},
   "outputs": [
    {
     "data": {
      "text/plain": [
       "0.38779220096822503"
      ]
     },
     "execution_count": 7,
     "metadata": {},
     "output_type": "execute_result"
    }
   ],
   "source": [
    "((x['mean']-daily_risk_free)/x['std'])*np.sqrt(252)"
   ]
  },
  {
   "cell_type": "code",
   "execution_count": 8,
   "metadata": {},
   "outputs": [],
   "source": [
    "portfolio_value = pd.Series(portf)\n",
    "portfolio_weights = pd.DataFrame([np.zeros(stats['prtf'][0][0].shape,dtype='int32'), *stats['prtf'][0]],columns=df_fechamento.columns)"
   ]
  },
  {
   "cell_type": "code",
   "execution_count": 9,
   "metadata": {},
   "outputs": [],
   "source": [
    "returns = df_fechamento.pct_change().iloc[1:].fillna(0)\n",
    "log_returns = np.log(1+returns)\n",
    "equal_pesos = [1/len(log_returns.columns)]*len(log_returns.columns)\n",
    "prtf_returns = (log_returns * equal_pesos).sum(axis=1)\n",
    "buy_n_hold = np.exp(prtf_returns.cumsum())*1000"
   ]
  },
  {
   "cell_type": "code",
   "execution_count": 10,
   "metadata": {},
   "outputs": [
    {
     "data": {
      "text/plain": [
       "<matplotlib.legend.Legend at 0x21eec9e4580>"
      ]
     },
     "execution_count": 10,
     "metadata": {},
     "output_type": "execute_result"
    },
    {
     "data": {
      "image/png": "[encoded data removed]",
      "text/plain": [
       "<Figure size 1000x600 with 1 Axes>"
      ]
     },
     "metadata": {},
     "output_type": "display_data"
    }
   ],
   "source": [
    "portfolio_value.iloc[1:].plot(label='Satoshi',figsize=(10,6))\n",
    "plt.plot(buy_n_hold.values,label='Buy n Hold')\n",
    "plt.legend()"
   ]
  },
  {
   "cell_type": "code",
   "execution_count": 11,
   "metadata": {},
   "outputs": [],
   "source": [
    "portfolio_weights.columns = portfolio_weights.columns + '_weights'"
   ]
  },
  {
   "cell_type": "code",
   "execution_count": 12,
   "metadata": {},
   "outputs": [],
   "source": [
    "portfolio_value.name = 'prtf_value'"
   ]
  },
  {
   "cell_type": "code",
   "execution_count": 13,
   "metadata": {},
   "outputs": [],
   "source": [
    "portfolio = pd.concat([portfolio_weights,portfolio_value],axis=1)"
   ]
  },
  {
   "cell_type": "code",
   "execution_count": 14,
   "metadata": {},
   "outputs": [],
   "source": [
    "portfolio.index = df_fechamento.index"
   ]
  },
  {
   "cell_type": "code",
   "execution_count": null,
   "metadata": {},
   "outputs": [],
   "source": []
  },
  {
   "cell_type": "code",
   "execution_count": 15,
   "metadata": {},
   "outputs": [
    {
     "data": {
      "text/html": [
       "<div>\n",
       "<style scoped>\n",
       "    .dataframe tbody tr th:only-of-type {\n",
       "        vertical-align: middle;\n",
       "    }\n",
       "\n",
       "    .dataframe tbody tr th {\n",
       "        vertical-align: top;\n",
       "    }\n",
       "\n",
       "    .dataframe thead th {\n",
       "        text-align: right;\n",
       "    }\n",
       "</style>\n",
       "<table border=\"1\" class=\"dataframe\">\n",
       "  <thead>\n",
       "    <tr style=\"text-align: right;\">\n",
       "      <th></th>\n",
       "      <th>0</th>\n",
       "      <th>1</th>\n",
       "    </tr>\n",
       "  </thead>\n",
       "  <tbody>\n",
       "    <tr>\n",
       "      <th>0</th>\n",
       "      <td>2022-02-01</td>\n",
       "      <td>2022-02-01</td>\n",
       "    </tr>\n",
       "    <tr>\n",
       "      <th>1</th>\n",
       "      <td>2022-02-02</td>\n",
       "      <td>2022-02-02</td>\n",
       "    </tr>\n",
       "    <tr>\n",
       "      <th>2</th>\n",
       "      <td>2022-02-03</td>\n",
       "      <td>2022-02-03</td>\n",
       "    </tr>\n",
       "    <tr>\n",
       "      <th>3</th>\n",
       "      <td>2022-02-04</td>\n",
       "      <td>2022-02-04</td>\n",
       "    </tr>\n",
       "    <tr>\n",
       "      <th>4</th>\n",
       "      <td>2022-02-05</td>\n",
       "      <td>2022-02-05</td>\n",
       "    </tr>\n",
       "    <tr>\n",
       "      <th>...</th>\n",
       "      <td>...</td>\n",
       "      <td>...</td>\n",
       "    </tr>\n",
       "    <tr>\n",
       "      <th>328</th>\n",
       "      <td>2022-12-26</td>\n",
       "      <td>2022-12-26</td>\n",
       "    </tr>\n",
       "    <tr>\n",
       "      <th>329</th>\n",
       "      <td>2022-12-27</td>\n",
       "      <td>2022-12-27</td>\n",
       "    </tr>\n",
       "    <tr>\n",
       "      <th>330</th>\n",
       "      <td>2022-12-28</td>\n",
       "      <td>2022-12-28</td>\n",
       "    </tr>\n",
       "    <tr>\n",
       "      <th>331</th>\n",
       "      <td>2022-12-29</td>\n",
       "      <td>2022-12-29</td>\n",
       "    </tr>\n",
       "    <tr>\n",
       "      <th>332</th>\n",
       "      <td>2022-12-30</td>\n",
       "      <td>2022-12-30</td>\n",
       "    </tr>\n",
       "  </tbody>\n",
       "</table>\n",
       "<p>333 rows × 2 columns</p>\n",
       "</div>"
      ],
      "text/plain": [
       "             0          1\n",
       "0   2022-02-01 2022-02-01\n",
       "1   2022-02-02 2022-02-02\n",
       "2   2022-02-03 2022-02-03\n",
       "3   2022-02-04 2022-02-04\n",
       "4   2022-02-05 2022-02-05\n",
       "..         ...        ...\n",
       "328 2022-12-26 2022-12-26\n",
       "329 2022-12-27 2022-12-27\n",
       "330 2022-12-28 2022-12-28\n",
       "331 2022-12-29 2022-12-29\n",
       "332 2022-12-30 2022-12-30\n",
       "\n",
       "[333 rows x 2 columns]"
      ]
     },
     "execution_count": 15,
     "metadata": {},
     "output_type": "execute_result"
    }
   ],
   "source": [
    "pd.DataFrame([df_fechamento.index,portfolio.index]).T"
   ]
  },
  {
   "cell_type": "code",
   "execution_count": 16,
   "metadata": {},
   "outputs": [],
   "source": [
    "portfolio.index = df_fechamento.index.copy()"
   ]
  },
  {
   "cell_type": "code",
   "execution_count": 17,
   "metadata": {},
   "outputs": [],
   "source": [
    "new_columns = dict(zip(['_fechamento','_normalized_fech','_macd','_rsi','_ewma_diff','_ddd','_mdd'],[df_fechamento,normalized_fech,macd,rsi,ewma_diff,ddd,mdd]))"
   ]
  },
  {
   "cell_type": "code",
   "execution_count": 18,
   "metadata": {},
   "outputs": [],
   "source": [
    "dflst = [portfolio]\n",
    "for k in new_columns.keys():\n",
    "  new_columns[k].columns = new_columns[k].columns + f'_{k}'\n",
    "  dflst.append(new_columns[k])"
   ]
  },
  {
   "cell_type": "code",
   "execution_count": 22,
   "metadata": {},
   "outputs": [],
   "source": [
    "data_science = pd.concat(dflst,axis=1)"
   ]
  },
  {
   "cell_type": "code",
   "execution_count": 24,
   "metadata": {},
   "outputs": [],
   "source": [
    "data_science.to_excel('./assets/resultado_portfolio.xlsx')"
   ]
  },
  {
   "cell_type": "code",
   "execution_count": null,
   "metadata": {},
   "outputs": [],
   "source": []
  }
 ],
 "metadata": {
  "kernelspec": {
   "display_name": "Python 3",
   "language": "python",
   "name": "python3"
  },
  "language_info": {
   "codemirror_mode": {
    "name": "ipython",
    "version": 3
   },
   "file_extension": ".py",
   "mimetype": "text/x-python",
   "name": "python",
   "nbconvert_exporter": "python",
   "pygments_lexer": "ipython3",
   "version": "3.10.11"
  },
  "orig_nbformat": 4
 },
 "nbformat": 4,
 "nbformat_minor": 2
}
