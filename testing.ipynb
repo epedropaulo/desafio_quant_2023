{
 "cells": [
  {
   "cell_type": "code",
   "execution_count": 24,
   "metadata": {},
   "outputs": [],
   "source": [
    "import pandas as pd\n",
    "import numpy as np\n",
    "import os\n",
    "from nice_funcs.indicators import CreateRandomPrtf,EWMA,MACD,RSI,NormalizeWindow,MDD\n",
    "from stable_baselines3 import DDPG ,PPO\n",
    "from ambiente import TradingEnv\n",
    "\n",
    "\n",
    "    \n",
    "\n",
    "def GetIndex(*args):\n",
    "  indicators = [*args]\n",
    "  index_init = set(indicators[0].index)\n",
    "  for ind_ in indicators:\n",
    "    index_init = index_init & set(ind_.index)\n",
    "  \n",
    "  idx_date = min(index_init)\n",
    "  new_index_indicators = []\n",
    "  for ind_ in indicators:\n",
    "    ind_['Cash'] = 0 \n",
    "    new_index_indicators.append(ind_[idx_date:])\n",
    "  return new_index_indicators\n",
    "        \n",
    "\n",
    "\n",
    "# %%\n",
    "path_diario = './assets/1d/'\n",
    "ativos = os.listdir(path_diario)\n",
    "\n",
    "ativosOHLC = {}\n",
    "for ativo in ativos:\n",
    "    ativosOHLC[ativo.replace('.xlsx','')] = \\\n",
    "        pd.read_excel(os.path.join(path_diario,ativo),index_col=0)\n",
    "    \n",
    "\n",
    "close_prices = {}\n",
    "for k in ativosOHLC.keys():\n",
    "  close_prices[k] = ativosOHLC[k].Close\n",
    "\n",
    "\n",
    "# %%\n",
    "df_fechamento = pd.DataFrame(close_prices)\n",
    "macd = df_fechamento.apply(lambda row: MACD(row)[0]).dropna()\n",
    "rsi = df_fechamento.apply(lambda row: RSI(row)).dropna()\n",
    "ewma_diff = df_fechamento.apply(lambda row: EWMA(row,20) - EWMA(row,5)).dropna()\n",
    "normalized_fech = df_fechamento.apply(lambda row: NormalizeWindow(row)).dropna()\n",
    "\n",
    "# %%\n",
    "  \n",
    "\n",
    "# %%\n",
    "df_fechamento = pd.DataFrame(close_prices).iloc[-360:]\n",
    "normalized_fech = df_fechamento.apply(lambda row: NormalizeWindow(row)).dropna()\n",
    "macd = df_fechamento.apply(lambda row: MACD(row)[0]).dropna()\n",
    "rsi = df_fechamento.apply(lambda row: RSI(row)).dropna()\n",
    "ewma_diff = df_fechamento.apply(lambda row: EWMA(row,20) - EWMA(row,5)).dropna()\n",
    "ddd = df_fechamento.apply(lambda row: MDD(row,window=26)[0]).dropna()\n",
    "mdd = df_fechamento.apply(lambda row: MDD(row,window=26)[0]).rolling(window=26).min().dropna()\n",
    "df_fechamento,normalized_fech,macd,rsi,ewma_diff,ddd,mdd =  GetIndex(df_fechamento,normalized_fech, macd, rsi, ewma_diff,ddd,mdd)\n",
    "\n",
    "\n",
    "\n",
    "\n",
    "\n",
    "\n",
    "env = TradingEnv(df_fechamento,[normalized_fech,macd,rsi,ewma_diff])"
   ]
  },
  {
   "cell_type": "code",
   "execution_count": 30,
   "metadata": {},
   "outputs": [],
   "source": [
    "model = PPO.load('./Training/Saved Models/trading_2.zip') \n",
    "#model = PPO.load('./Training/Logs/best_model.zip')"
   ]
  },
  {
   "cell_type": "code",
   "execution_count": 32,
   "metadata": {},
   "outputs": [
    {
     "name": "stdout",
     "output_type": "stream",
     "text": [
      "**************************************************\n",
      "Retorno 1427.23\n"
     ]
    }
   ],
   "source": [
    "stats = {\n",
    "  'ganho_total':[],\n",
    "  'total_turnos':[],\n",
    "  'prtf':[],\n",
    "  'valor':[]}\n",
    "for _ in range(1):\n",
    "  obs,_ = env.reset()\n",
    "  total_ganho = 0\n",
    "  done = False\n",
    "  truncated = False\n",
    "  termination = (done or truncated)\n",
    "  acoes = []\n",
    "  rewards = []\n",
    "  while not termination:\n",
    "      action,_ = model.predict(obs,deterministic=True)\n",
    "      obs,reward, done ,truncated,info = env.step(action)\n",
    "      total_ganho +=reward\n",
    "      termination = (done or truncated)\n",
    "      if sum(action) != 0:\n",
    "         action = action/sum(action)\n",
    "      else:\n",
    "         action = env.softmax_normalization(action)\n",
    "      acoes.append(action)\n",
    "      rewards.append(reward)\n",
    "  stats['ganho_total'].append(total_ganho)\n",
    "  stats['total_turnos'].append(env.step_)\n",
    "  stats['prtf'].append(acoes)\n",
    "  stats['valor'].append(rewards)"
   ]
  },
  {
   "cell_type": "code",
   "execution_count": 33,
   "metadata": {},
   "outputs": [],
   "source": [
    "x = (pd.Series(stats['valor'][0]).cumsum() +1000).pct_change().describe()"
   ]
  },
  {
   "cell_type": "code",
   "execution_count": 34,
   "metadata": {},
   "outputs": [
    {
     "data": {
      "text/plain": [
       "0.9658497411869824"
      ]
     },
     "execution_count": 34,
     "metadata": {},
     "output_type": "execute_result"
    }
   ],
   "source": [
    "(x['mean']/x['std'])*np.sqrt(360)"
   ]
  },
  {
   "cell_type": "code",
   "execution_count": 16,
   "metadata": {},
   "outputs": [
    {
     "data": {
      "text/plain": [
       "ADAUSDT    10.170621\n",
       "BNBUSDT    28.995121\n",
       "BTCUSDT    18.725794\n",
       "ETHUSDT    12.656740\n",
       "LTCUSDT     7.255637\n",
       "XRPUSDT     6.038750\n",
       "Cash       16.157339\n",
       "dtype: float32"
      ]
     },
     "execution_count": 16,
     "metadata": {},
     "output_type": "execute_result"
    }
   ],
   "source": [
    "(pd.DataFrame(stats['prtf'][0],columns=df_fechamento.columns)*100).mean()"
   ]
  },
  {
   "cell_type": "code",
   "execution_count": 7,
   "metadata": {},
   "outputs": [],
   "source": [
    "returns = df_fechamento.pct_change().iloc[1:].fillna(0)"
   ]
  },
  {
   "cell_type": "code",
   "execution_count": 8,
   "metadata": {},
   "outputs": [],
   "source": [
    "log_returns = np.log(1+returns)"
   ]
  },
  {
   "cell_type": "code",
   "execution_count": 9,
   "metadata": {},
   "outputs": [],
   "source": [
    "equal_pesos = [1/len(log_returns.columns)]*len(log_returns.columns)"
   ]
  },
  {
   "cell_type": "code",
   "execution_count": 10,
   "metadata": {},
   "outputs": [],
   "source": [
    "prtf_returns = (log_returns * equal_pesos).sum(axis=1)"
   ]
  },
  {
   "cell_type": "code",
   "execution_count": 11,
   "metadata": {},
   "outputs": [
    {
     "data": {
      "text/plain": [
       "0.27148376063109264"
      ]
     },
     "execution_count": 11,
     "metadata": {},
     "output_type": "execute_result"
    }
   ],
   "source": [
    "(prtf_returns.mean()/prtf_returns.std())*np.sqrt(360)"
   ]
  },
  {
   "cell_type": "code",
   "execution_count": null,
   "metadata": {},
   "outputs": [],
   "source": []
  }
 ],
 "metadata": {
  "kernelspec": {
   "display_name": "Python 3",
   "language": "python",
   "name": "python3"
  },
  "language_info": {
   "codemirror_mode": {
    "name": "ipython",
    "version": 3
   },
   "file_extension": ".py",
   "mimetype": "text/x-python",
   "name": "python",
   "nbconvert_exporter": "python",
   "pygments_lexer": "ipython3",
   "version": "3.10.11"
  },
  "orig_nbformat": 4
 },
 "nbformat": 4,
 "nbformat_minor": 2
}
