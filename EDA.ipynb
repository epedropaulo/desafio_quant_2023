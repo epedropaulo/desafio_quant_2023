{
 "cells": [
  {
   "cell_type": "code",
   "execution_count": 94,
   "metadata": {},
   "outputs": [],
   "source": [
    "import pandas as pd\n",
    "import numpy as np\n",
    "from statsmodels.regression.linear_model import OLS\n",
    "from statsmodels.tools.tools import add_constant"
   ]
  },
  {
   "cell_type": "code",
   "execution_count": 95,
   "metadata": {},
   "outputs": [],
   "source": [
    "dataset = pd.read_excel('./assets/resultado_portfolio.xlsx',index_col=0)\n",
    "cols = dataset.columns"
   ]
  },
  {
   "cell_type": "code",
   "execution_count": 104,
   "metadata": {},
   "outputs": [],
   "source": [
    "var = 'ETHUSDT'"
   ]
  },
  {
   "cell_type": "code",
   "execution_count": 105,
   "metadata": {},
   "outputs": [],
   "source": [
    "select = cols[cols.str.contains(var)]"
   ]
  },
  {
   "cell_type": "code",
   "execution_count": 106,
   "metadata": {},
   "outputs": [],
   "source": [
    "frame = dataset[select]"
   ]
  },
  {
   "cell_type": "code",
   "execution_count": 107,
   "metadata": {},
   "outputs": [],
   "source": [
    "y = frame[f'{var}_weights'].copy()\n",
    "X = frame[frame.columns[1:]].copy()"
   ]
  },
  {
   "cell_type": "code",
   "execution_count": 108,
   "metadata": {},
   "outputs": [],
   "source": [
    "X = X.drop([f'{var}__fechamento'],axis=1)"
   ]
  },
  {
   "cell_type": "code",
   "execution_count": 109,
   "metadata": {},
   "outputs": [],
   "source": [
    "X_ = add_constant(X)"
   ]
  },
  {
   "cell_type": "code",
   "execution_count": 110,
   "metadata": {},
   "outputs": [],
   "source": [
    "res = OLS(y,X_).fit()"
   ]
  },
  {
   "cell_type": "code",
   "execution_count": 111,
   "metadata": {},
   "outputs": [
    {
     "data": {
      "text/html": [
       "<table class=\"simpletable\">\n",
       "<caption>OLS Regression Results</caption>\n",
       "<tr>\n",
       "  <th>Dep. Variable:</th>     <td>ETHUSDT_weights</td> <th>  R-squared:         </th> <td>   0.075</td>\n",
       "</tr>\n",
       "<tr>\n",
       "  <th>Model:</th>                   <td>OLS</td>       <th>  Adj. R-squared:    </th> <td>   0.058</td>\n",
       "</tr>\n",
       "<tr>\n",
       "  <th>Method:</th>             <td>Least Squares</td>  <th>  F-statistic:       </th> <td>   4.431</td>\n",
       "</tr>\n",
       "<tr>\n",
       "  <th>Date:</th>             <td>Thu, 14 Sep 2023</td> <th>  Prob (F-statistic):</th> <td>0.000252</td>\n",
       "</tr>\n",
       "<tr>\n",
       "  <th>Time:</th>                 <td>23:00:43</td>     <th>  Log-Likelihood:    </th> <td>  150.52</td>\n",
       "</tr>\n",
       "<tr>\n",
       "  <th>No. Observations:</th>      <td>   333</td>      <th>  AIC:               </th> <td>  -287.0</td>\n",
       "</tr>\n",
       "<tr>\n",
       "  <th>Df Residuals:</th>          <td>   326</td>      <th>  BIC:               </th> <td>  -260.4</td>\n",
       "</tr>\n",
       "<tr>\n",
       "  <th>Df Model:</th>              <td>     6</td>      <th>                     </th>     <td> </td>   \n",
       "</tr>\n",
       "<tr>\n",
       "  <th>Covariance Type:</th>      <td>nonrobust</td>    <th>                     </th>     <td> </td>   \n",
       "</tr>\n",
       "</table>\n",
       "<table class=\"simpletable\">\n",
       "<tr>\n",
       "              <td></td>                <th>coef</th>     <th>std err</th>      <th>t</th>      <th>P>|t|</th>  <th>[0.025</th>    <th>0.975]</th>  \n",
       "</tr>\n",
       "<tr>\n",
       "  <th>const</th>                    <td>    0.7672</td> <td>    0.198</td> <td>    3.881</td> <td> 0.000</td> <td>    0.378</td> <td>    1.156</td>\n",
       "</tr>\n",
       "<tr>\n",
       "  <th>ETHUSDT__normalized_fech</th> <td>    0.0273</td> <td>    0.022</td> <td>    1.227</td> <td> 0.221</td> <td>   -0.016</td> <td>    0.071</td>\n",
       "</tr>\n",
       "<tr>\n",
       "  <th>ETHUSDT__macd</th>            <td>    0.0002</td> <td>    0.000</td> <td>    0.514</td> <td> 0.607</td> <td>   -0.000</td> <td>    0.001</td>\n",
       "</tr>\n",
       "<tr>\n",
       "  <th>ETHUSDT__rsi</th>             <td>   -0.0130</td> <td>    0.004</td> <td>   -3.661</td> <td> 0.000</td> <td>   -0.020</td> <td>   -0.006</td>\n",
       "</tr>\n",
       "<tr>\n",
       "  <th>ETHUSDT__ewma_diff</th>       <td>   -0.0003</td> <td>    0.000</td> <td>   -1.287</td> <td> 0.199</td> <td>   -0.001</td> <td>    0.000</td>\n",
       "</tr>\n",
       "<tr>\n",
       "  <th>ETHUSDT__ddd</th>             <td>    0.3594</td> <td>    0.145</td> <td>    2.478</td> <td> 0.014</td> <td>    0.074</td> <td>    0.645</td>\n",
       "</tr>\n",
       "<tr>\n",
       "  <th>ETHUSDT__mdd</th>             <td>    0.2313</td> <td>    0.132</td> <td>    1.756</td> <td> 0.080</td> <td>   -0.028</td> <td>    0.490</td>\n",
       "</tr>\n",
       "</table>\n",
       "<table class=\"simpletable\">\n",
       "<tr>\n",
       "  <th>Omnibus:</th>       <td>20.174</td> <th>  Durbin-Watson:     </th> <td>   0.862</td>\n",
       "</tr>\n",
       "<tr>\n",
       "  <th>Prob(Omnibus):</th> <td> 0.000</td> <th>  Jarque-Bera (JB):  </th> <td>   7.920</td>\n",
       "</tr>\n",
       "<tr>\n",
       "  <th>Skew:</th>          <td> 0.003</td> <th>  Prob(JB):          </th> <td>  0.0191</td>\n",
       "</tr>\n",
       "<tr>\n",
       "  <th>Kurtosis:</th>      <td> 2.245</td> <th>  Cond. No.          </th> <td>4.24e+03</td>\n",
       "</tr>\n",
       "</table><br/><br/>Notes:<br/>[1] Standard Errors assume that the covariance matrix of the errors is correctly specified.<br/>[2] The condition number is large, 4.24e+03. This might indicate that there are<br/>strong multicollinearity or other numerical problems."
      ],
      "text/latex": [
       "\\begin{center}\n",
       "\\begin{tabular}{lclc}\n",
       "\\toprule\n",
       "\\textbf{Dep. Variable:}              & ETHUSDT\\_weights & \\textbf{  R-squared:         } &     0.075   \\\\\n",
       "\\textbf{Model:}                      &       OLS        & \\textbf{  Adj. R-squared:    } &     0.058   \\\\\n",
       "\\textbf{Method:}                     &  Least Squares   & \\textbf{  F-statistic:       } &     4.431   \\\\\n",
       "\\textbf{Date:}                       & Thu, 14 Sep 2023 & \\textbf{  Prob (F-statistic):} &  0.000252   \\\\\n",
       "\\textbf{Time:}                       &     23:00:43     & \\textbf{  Log-Likelihood:    } &    150.52   \\\\\n",
       "\\textbf{No. Observations:}           &         333      & \\textbf{  AIC:               } &    -287.0   \\\\\n",
       "\\textbf{Df Residuals:}               &         326      & \\textbf{  BIC:               } &    -260.4   \\\\\n",
       "\\textbf{Df Model:}                   &           6      & \\textbf{                     } &             \\\\\n",
       "\\textbf{Covariance Type:}            &    nonrobust     & \\textbf{                     } &             \\\\\n",
       "\\bottomrule\n",
       "\\end{tabular}\n",
       "\\begin{tabular}{lcccccc}\n",
       "                                     & \\textbf{coef} & \\textbf{std err} & \\textbf{t} & \\textbf{P$> |$t$|$} & \\textbf{[0.025} & \\textbf{0.975]}  \\\\\n",
       "\\midrule\n",
       "\\textbf{const}                       &       0.7672  &        0.198     &     3.881  &         0.000        &        0.378    &        1.156     \\\\\n",
       "\\textbf{ETHUSDT\\_\\_normalized\\_fech} &       0.0273  &        0.022     &     1.227  &         0.221        &       -0.016    &        0.071     \\\\\n",
       "\\textbf{ETHUSDT\\_\\_macd}             &       0.0002  &        0.000     &     0.514  &         0.607        &       -0.000    &        0.001     \\\\\n",
       "\\textbf{ETHUSDT\\_\\_rsi}              &      -0.0130  &        0.004     &    -3.661  &         0.000        &       -0.020    &       -0.006     \\\\\n",
       "\\textbf{ETHUSDT\\_\\_ewma\\_diff}       &      -0.0003  &        0.000     &    -1.287  &         0.199        &       -0.001    &        0.000     \\\\\n",
       "\\textbf{ETHUSDT\\_\\_ddd}              &       0.3594  &        0.145     &     2.478  &         0.014        &        0.074    &        0.645     \\\\\n",
       "\\textbf{ETHUSDT\\_\\_mdd}              &       0.2313  &        0.132     &     1.756  &         0.080        &       -0.028    &        0.490     \\\\\n",
       "\\bottomrule\n",
       "\\end{tabular}\n",
       "\\begin{tabular}{lclc}\n",
       "\\textbf{Omnibus:}       & 20.174 & \\textbf{  Durbin-Watson:     } &    0.862  \\\\\n",
       "\\textbf{Prob(Omnibus):} &  0.000 & \\textbf{  Jarque-Bera (JB):  } &    7.920  \\\\\n",
       "\\textbf{Skew:}          &  0.003 & \\textbf{  Prob(JB):          } &   0.0191  \\\\\n",
       "\\textbf{Kurtosis:}      &  2.245 & \\textbf{  Cond. No.          } & 4.24e+03  \\\\\n",
       "\\bottomrule\n",
       "\\end{tabular}\n",
       "%\\caption{OLS Regression Results}\n",
       "\\end{center}\n",
       "\n",
       "Notes: \\newline\n",
       " [1] Standard Errors assume that the covariance matrix of the errors is correctly specified. \\newline\n",
       " [2] The condition number is large, 4.24e+03. This might indicate that there are \\newline\n",
       " strong multicollinearity or other numerical problems."
      ],
      "text/plain": [
       "<class 'statsmodels.iolib.summary.Summary'>\n",
       "\"\"\"\n",
       "                            OLS Regression Results                            \n",
       "==============================================================================\n",
       "Dep. Variable:        ETHUSDT_weights   R-squared:                       0.075\n",
       "Model:                            OLS   Adj. R-squared:                  0.058\n",
       "Method:                 Least Squares   F-statistic:                     4.431\n",
       "Date:                Thu, 14 Sep 2023   Prob (F-statistic):           0.000252\n",
       "Time:                        23:00:43   Log-Likelihood:                 150.52\n",
       "No. Observations:                 333   AIC:                            -287.0\n",
       "Df Residuals:                     326   BIC:                            -260.4\n",
       "Df Model:                           6                                         \n",
       "Covariance Type:            nonrobust                                         \n",
       "============================================================================================\n",
       "                               coef    std err          t      P>|t|      [0.025      0.975]\n",
       "--------------------------------------------------------------------------------------------\n",
       "const                        0.7672      0.198      3.881      0.000       0.378       1.156\n",
       "ETHUSDT__normalized_fech     0.0273      0.022      1.227      0.221      -0.016       0.071\n",
       "ETHUSDT__macd                0.0002      0.000      0.514      0.607      -0.000       0.001\n",
       "ETHUSDT__rsi                -0.0130      0.004     -3.661      0.000      -0.020      -0.006\n",
       "ETHUSDT__ewma_diff          -0.0003      0.000     -1.287      0.199      -0.001       0.000\n",
       "ETHUSDT__ddd                 0.3594      0.145      2.478      0.014       0.074       0.645\n",
       "ETHUSDT__mdd                 0.2313      0.132      1.756      0.080      -0.028       0.490\n",
       "==============================================================================\n",
       "Omnibus:                       20.174   Durbin-Watson:                   0.862\n",
       "Prob(Omnibus):                  0.000   Jarque-Bera (JB):                7.920\n",
       "Skew:                           0.003   Prob(JB):                       0.0191\n",
       "Kurtosis:                       2.245   Cond. No.                     4.24e+03\n",
       "==============================================================================\n",
       "\n",
       "Notes:\n",
       "[1] Standard Errors assume that the covariance matrix of the errors is correctly specified.\n",
       "[2] The condition number is large, 4.24e+03. This might indicate that there are\n",
       "strong multicollinearity or other numerical problems.\n",
       "\"\"\""
      ]
     },
     "execution_count": 111,
     "metadata": {},
     "output_type": "execute_result"
    }
   ],
   "source": [
    "res.summary()"
   ]
  },
  {
   "cell_type": "code",
   "execution_count": null,
   "metadata": {},
   "outputs": [],
   "source": []
  },
  {
   "cell_type": "code",
   "execution_count": null,
   "metadata": {},
   "outputs": [],
   "source": []
  }
 ],
 "metadata": {
  "kernelspec": {
   "display_name": "Python 3",
   "language": "python",
   "name": "python3"
  },
  "language_info": {
   "codemirror_mode": {
    "name": "ipython",
    "version": 3
   },
   "file_extension": ".py",
   "mimetype": "text/x-python",
   "name": "python",
   "nbconvert_exporter": "python",
   "pygments_lexer": "ipython3",
   "version": "3.10.11"
  },
  "orig_nbformat": 4
 },
 "nbformat": 4,
 "nbformat_minor": 2
}
